{
  "nbformat": 4,
  "nbformat_minor": 0,
  "metadata": {
    "colab": {
      "name": "Untitled0.ipynb",
      "provenance": [],
      "authorship_tag": "ABX9TyN7pcwPhd9IXsiiY7/p+XjH",
      "include_colab_link": true
    },
    "kernelspec": {
      "name": "python3",
      "display_name": "Python 3"
    },
    "language_info": {
      "name": "python"
    }
  },
  "cells": [
    {
      "cell_type": "markdown",
      "metadata": {
        "id": "view-in-github",
        "colab_type": "text"
      },
      "source": [
        "<a href=\"https://colab.research.google.com/github/NarawitPrathansap/BasicProg_DataViz65/blob/main/Untitled0.ipynb\" target=\"_parent\"><img src=\"https://colab.research.google.com/assets/colab-badge.svg\" alt=\"Open In Colab\"/></a>"
      ]
    },
    {
      "cell_type": "markdown",
      "source": [
        "# Quiz 1\n",
        "\n",
        "คำนวณเวลาเป็นความต่างของเวลาเป็นวินาทีของช่วงเวลาต่อไปนี้โดยใช้คำสั่ง split() ช่วย และ print ออกมาให้สวยงาม\n",
        "\n",
        "\n",
        "*   09:11:50 - 12:30:15\n",
        "*   13:41:07 - 20:00:18\n",
        "*   21:30:15 - 00:00:00\n",
        "*   00:00:00 - 23:59:59\n"
      ],
      "metadata": {
        "id": "-RP9CXP24lGU"
      }
    },
    {
      "cell_type": "markdown",
      "source": [
        "# ข้อที่ 1 "
      ],
      "metadata": {
        "id": "uy3L_kO3MNxE"
      }
    },
    {
      "cell_type": "code",
      "source": [
        "#09:11:50 - 12:30:15\n",
        "time_1 = '12:30:15'\n",
        "time_2 = '09:11:50'\n",
        "print(time_1)\n",
        "print(time_2)\n"
      ],
      "metadata": {
        "colab": {
          "base_uri": "https://localhost:8080/"
        },
        "id": "33ygpZ4lG-ls",
        "outputId": "126233cf-b8e1-40f0-b212-39c722d995bb"
      },
      "execution_count": 60,
      "outputs": [
        {
          "output_type": "stream",
          "name": "stdout",
          "text": [
            "12:30:15\n",
            "09:11:50\n"
          ]
        }
      ]
    },
    {
      "cell_type": "code",
      "source": [
        "sp_time_1 = time_1.split(':')\n",
        "sp_time_2 = time_2.split(':')\n",
        "print(sp_time_1)\n",
        "print(sp_time_2)"
      ],
      "metadata": {
        "colab": {
          "base_uri": "https://localhost:8080/"
        },
        "id": "oW27t-3WHlhM",
        "outputId": "77f8735b-8bb4-4b00-f70b-16203493c995"
      },
      "execution_count": 61,
      "outputs": [
        {
          "output_type": "stream",
          "name": "stdout",
          "text": [
            "['12', '30', '15']\n",
            "['09', '11', '50']\n"
          ]
        }
      ]
    },
    {
      "cell_type": "code",
      "source": [
        "sec_1 = (int(sp_time_1[0])*60*60) + (int(sp_time_1[1])*60) + (int(sp_time_1[2]))\n",
        "sec_2 = (int(sp_time_2[0])*60*60) + (int(sp_time_2[1])*60) + (int(sp_time_2[2]))\n"
      ],
      "metadata": {
        "id": "WDb6e-M0Mbgb"
      },
      "execution_count": 72,
      "outputs": []
    },
    {
      "cell_type": "code",
      "source": [
        "total_sec1 = sec_1 - sec_2\n",
        "print(total_sec1)"
      ],
      "metadata": {
        "colab": {
          "base_uri": "https://localhost:8080/"
        },
        "id": "X4byViNUQN1U",
        "outputId": "e34e4a0e-27ac-4c29-a527-7859959e28c5"
      },
      "execution_count": 73,
      "outputs": [
        {
          "output_type": "stream",
          "name": "stdout",
          "text": [
            "11905\n"
          ]
        }
      ]
    },
    {
      "cell_type": "code",
      "source": [
        "print(f'ดังนั้น ความต่างของเวลา {time_2} และ {time_1} สามารถเเปลงเป็นหน่วยวินาทีได้ {total_sec} วินาที')"
      ],
      "metadata": {
        "colab": {
          "base_uri": "https://localhost:8080/"
        },
        "id": "SjEO267cNaFr",
        "outputId": "a543fc6c-503c-43d9-d6ed-b38c07ab2f45"
      },
      "execution_count": 76,
      "outputs": [
        {
          "output_type": "stream",
          "name": "stdout",
          "text": [
            "ดังนั้น ความต่างของเวลา 09:11:50 และ 12:30:15 สามารถเเปลงเป็นหน่วยวินาทีได้ 11905 วินาที\n"
          ]
        }
      ]
    },
    {
      "cell_type": "markdown",
      "source": [
        "#ข้อที่ 2"
      ],
      "metadata": {
        "id": "yFbuz6eFOWVD"
      }
    },
    {
      "cell_type": "code",
      "source": [
        "#13:41:07 - 20:00:18\n",
        "time_3 = '20:00:18'\n",
        "time_4 = '13:41:07'\n",
        "print(time_3)\n",
        "print(time_4)"
      ],
      "metadata": {
        "colab": {
          "base_uri": "https://localhost:8080/"
        },
        "id": "11OHD389Og8C",
        "outputId": "9a897549-a66f-4984-8e35-5dff13158906"
      },
      "execution_count": 59,
      "outputs": [
        {
          "output_type": "stream",
          "name": "stdout",
          "text": [
            "20:00:18\n",
            "13:41:07\n"
          ]
        }
      ]
    },
    {
      "cell_type": "code",
      "source": [
        "sp_time_3 = time_3.split(':')\n",
        "sp_time_4 = time_4.split(':')\n",
        "print(sp_time_3)\n",
        "print(sp_time_4)"
      ],
      "metadata": {
        "colab": {
          "base_uri": "https://localhost:8080/"
        },
        "id": "GL2CzABhO75E",
        "outputId": "d18c3ebe-56e8-4c1b-dcad-7547021121a1"
      },
      "execution_count": 68,
      "outputs": [
        {
          "output_type": "stream",
          "name": "stdout",
          "text": [
            "['20', '00', '18']\n",
            "['13', '41', '07']\n"
          ]
        }
      ]
    },
    {
      "cell_type": "code",
      "source": [
        "sec_3 = (int(sp_time_3[0])*60*60) + (int(sp_time_3[1])*60) + (int(sp_time_3[2]))\n",
        "sec_4 = (int(sp_time_4[0])*60*60) + (int(sp_time_4[1])*60) + (int(sp_time_4[2]))\n"
      ],
      "metadata": {
        "id": "NQ7ldXYvPFti"
      },
      "execution_count": 74,
      "outputs": []
    },
    {
      "cell_type": "code",
      "source": [
        "total_sec2 = sec_3 - sec_4\n",
        "print(total_sec2)"
      ],
      "metadata": {
        "colab": {
          "base_uri": "https://localhost:8080/"
        },
        "id": "w4v7tWE2QehC",
        "outputId": "1e4984b3-05fa-4440-fac8-b9a911177886"
      },
      "execution_count": 78,
      "outputs": [
        {
          "output_type": "stream",
          "name": "stdout",
          "text": [
            "22751\n"
          ]
        }
      ]
    },
    {
      "cell_type": "code",
      "source": [
        "print(f'ดังนั้น ความต่างของเวลา {time_4} และ {time_3} สามารถเเปลงเป็นหน่วยวินาทีได้ {total_sec2} วินาที')"
      ],
      "metadata": {
        "colab": {
          "base_uri": "https://localhost:8080/"
        },
        "id": "MA3pMGw8Q2J6",
        "outputId": "c77efc04-283a-44a4-9e12-5edbd33827c7"
      },
      "execution_count": 82,
      "outputs": [
        {
          "output_type": "stream",
          "name": "stdout",
          "text": [
            "ดังนั้น ความต่างของเวลา 13:41:07 และ 20:00:18 สามารถเเปลงเป็นหน่วยวินาทีได้ 22751 วินาที\n"
          ]
        }
      ]
    },
    {
      "cell_type": "markdown",
      "source": [
        "# ข้อที่ 3 "
      ],
      "metadata": {
        "id": "KpiBdNxyRAYC"
      }
    },
    {
      "cell_type": "code",
      "source": [
        "#21:30:15 - 00:00:00 -> 21:30:15 - 24:00:00\n",
        "time_5 = '21:30:15'\n",
        "time_6 = '24:00:00'\n",
        "print(time_5)\n",
        "print(time_6)"
      ],
      "metadata": {
        "colab": {
          "base_uri": "https://localhost:8080/"
        },
        "id": "1Qz4DIt8RI3S",
        "outputId": "c202a94c-6c65-48d2-9229-1dff3dbde95c"
      },
      "execution_count": 88,
      "outputs": [
        {
          "output_type": "stream",
          "name": "stdout",
          "text": [
            "21:30:15\n",
            "24:00:00\n"
          ]
        }
      ]
    },
    {
      "cell_type": "code",
      "source": [
        "sp_time_5 = time_5.split(':')\n",
        "sp_time_6 = time_6.split(':')\n",
        "print(sp_time_5)\n",
        "print(sp_time_6)"
      ],
      "metadata": {
        "colab": {
          "base_uri": "https://localhost:8080/"
        },
        "id": "6aDoDFBNRg5C",
        "outputId": "879c336a-2f28-4708-e5d3-fc7d3e08a018"
      },
      "execution_count": 89,
      "outputs": [
        {
          "output_type": "stream",
          "name": "stdout",
          "text": [
            "['21', '30', '15']\n",
            "['24', '00', '00']\n"
          ]
        }
      ]
    },
    {
      "cell_type": "code",
      "source": [
        "sec_5 = (int(sp_time_5[0])*60*60) + (int(sp_time_5[1])*60) + (int(sp_time_5[2]))\n",
        "sec_6 = (int(sp_time_6[0])*60*60) + (int(sp_time_6[1])*60) + (int(sp_time_6[2]))\n"
      ],
      "metadata": {
        "id": "GyZoVz2ERhKi"
      },
      "execution_count": 90,
      "outputs": []
    },
    {
      "cell_type": "code",
      "source": [
        "total_sec3 = sec_6 - sec_5\n",
        "print(total_sec3)"
      ],
      "metadata": {
        "colab": {
          "base_uri": "https://localhost:8080/"
        },
        "id": "_xk5YeDKRhbR",
        "outputId": "ed1aff0d-f8bc-4ffb-e142-bde61127a092"
      },
      "execution_count": 92,
      "outputs": [
        {
          "output_type": "stream",
          "name": "stdout",
          "text": [
            "8985\n"
          ]
        }
      ]
    },
    {
      "cell_type": "code",
      "source": [
        "print(f'ดังนั้น ความต่างของเวลา {time_5} และ {time_6} สามารถเเปลงเป็นหน่วยวินาทีได้ {total_sec3} วินาที')"
      ],
      "metadata": {
        "colab": {
          "base_uri": "https://localhost:8080/"
        },
        "id": "nBG9vhlKRhtu",
        "outputId": "dd493612-8700-4551-a990-2f3866fa7633"
      },
      "execution_count": 93,
      "outputs": [
        {
          "output_type": "stream",
          "name": "stdout",
          "text": [
            "ดังนั้น ความต่างของเวลา 21:30:15 และ 24:00:00 สามารถเเปลงเป็นหน่วยวินาทีได้ 8985 วินาที\n"
          ]
        }
      ]
    },
    {
      "cell_type": "markdown",
      "source": [
        "# ข้อที่ 4 "
      ],
      "metadata": {
        "id": "Oe76U03PSSDV"
      }
    },
    {
      "cell_type": "code",
      "source": [
        "#00:00:00 - 23:59:59\n",
        "time_7 = '00:00:00'\n",
        "time_8 = '23:59:59'\n",
        "print(time_7)\n",
        "print(time_8)"
      ],
      "metadata": {
        "colab": {
          "base_uri": "https://localhost:8080/"
        },
        "id": "Lm4ncWfFSUaV",
        "outputId": "56e13b86-7aec-4377-9897-f5d0525f7386"
      },
      "execution_count": 96,
      "outputs": [
        {
          "output_type": "stream",
          "name": "stdout",
          "text": [
            "00:00:00\n",
            "23:59:59\n"
          ]
        }
      ]
    },
    {
      "cell_type": "code",
      "source": [
        "sp_time_7 = time_7.split(':')\n",
        "sp_time_8 = time_8.split(':')\n",
        "print(sp_time_7)\n",
        "print(sp_time_8)"
      ],
      "metadata": {
        "colab": {
          "base_uri": "https://localhost:8080/"
        },
        "id": "NEy4nEueSXG_",
        "outputId": "b2799d50-0be4-4bc6-d546-dafbf4ba0945"
      },
      "execution_count": 101,
      "outputs": [
        {
          "output_type": "stream",
          "name": "stdout",
          "text": [
            "['00', '00', '00']\n",
            "['23', '59', '59']\n"
          ]
        }
      ]
    },
    {
      "cell_type": "code",
      "source": [
        "sec_7 = (int(sp_time_7[0])*60*60) + (int(sp_time_7[1])*60) + (int(sp_time_7[2]))\n",
        "sec_8 = (int(sp_time_8[0])*60*60) + (int(sp_time_8[1])*60) + (int(sp_time_8[2]))"
      ],
      "metadata": {
        "id": "Zu9h5vPKSW_2"
      },
      "execution_count": 100,
      "outputs": []
    },
    {
      "cell_type": "code",
      "source": [
        "total_sec4 = sec_8 - sec_7\n",
        "print(total_sec4)"
      ],
      "metadata": {
        "colab": {
          "base_uri": "https://localhost:8080/"
        },
        "id": "NsCrhQTqSW5S",
        "outputId": "9838a25c-545e-41ef-dc23-c35efa4df6da"
      },
      "execution_count": 102,
      "outputs": [
        {
          "output_type": "stream",
          "name": "stdout",
          "text": [
            "86399\n"
          ]
        }
      ]
    },
    {
      "cell_type": "code",
      "source": [
        "print(f'ดังนั้น ความต่างของเวลา {time_7} และ {time_8} สามารถเเปลงเป็นหน่วยวินาทีได้ {total_sec4} วินาที')"
      ],
      "metadata": {
        "colab": {
          "base_uri": "https://localhost:8080/"
        },
        "id": "bA-5xPVgSWv6",
        "outputId": "c6c664d0-df51-4bd5-c93b-ecc81b160c28"
      },
      "execution_count": 104,
      "outputs": [
        {
          "output_type": "stream",
          "name": "stdout",
          "text": [
            "ดังนั้น ความต่างของเวลา 00:00:00 และ 23:59:59 สามารถเเปลงเป็นหน่วยวินาทีได้ 86399 วินาที\n"
          ]
        }
      ]
    }
  ]
}