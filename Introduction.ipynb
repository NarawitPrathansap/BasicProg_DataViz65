{
  "nbformat": 4,
  "nbformat_minor": 0,
  "metadata": {
    "colab": {
      "name": "Introduction.ipynb",
      "provenance": [],
      "authorship_tag": "ABX9TyPUF/+aeT+ndpIElG0rcQMR",
      "include_colab_link": true
    },
    "kernelspec": {
      "name": "python3",
      "display_name": "Python 3"
    },
    "language_info": {
      "name": "python"
    }
  },
  "cells": [
    {
      "cell_type": "markdown",
      "metadata": {
        "id": "view-in-github",
        "colab_type": "text"
      },
      "source": [
        "<a href=\"https://colab.research.google.com/github/NarawitPrathansap/BasicProg_DataViz65/blob/main/Introduction.ipynb\" target=\"_parent\"><img src=\"https://colab.research.google.com/assets/colab-badge.svg\" alt=\"Open In Colab\"/></a>"
      ]
    },
    {
      "cell_type": "markdown",
      "source": [
        "นราวิชญ์ ประทานทรัพย์ 633020445-9"
      ],
      "metadata": {
        "id": "z7vz6BCAFkl_"
      }
    },
    {
      "cell_type": "code",
      "source": [
        "print('hello world');"
      ],
      "metadata": {
        "colab": {
          "base_uri": "https://localhost:8080/"
        },
        "id": "7z7kN3CtFq5Y",
        "outputId": "6b5df83f-a1db-4e38-861c-52ef847ead2d"
      },
      "execution_count": 6,
      "outputs": [
        {
          "output_type": "stream",
          "name": "stdout",
          "text": [
            "hello world\n"
          ]
        }
      ]
    },
    {
      "cell_type": "markdown",
      "source": [
        "# heading1"
      ],
      "metadata": {
        "id": "cNTY-zX0G242"
      }
    }
  ]
}