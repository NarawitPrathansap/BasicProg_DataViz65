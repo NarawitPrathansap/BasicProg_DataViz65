{
  "nbformat": 4,
  "nbformat_minor": 0,
  "metadata": {
    "colab": {
      "name": "Quiz3.ipynb",
      "provenance": [],
      "authorship_tag": "ABX9TyNhLj8XSl31BFXOyMMhm03Z",
      "include_colab_link": true
    },
    "kernelspec": {
      "name": "python3",
      "display_name": "Python 3"
    },
    "language_info": {
      "name": "python"
    }
  },
  "cells": [
    {
      "cell_type": "markdown",
      "metadata": {
        "id": "view-in-github",
        "colab_type": "text"
      },
      "source": [
        "<a href=\"https://colab.research.google.com/github/NarawitPrathansap/BasicProg_DataViz65/blob/main/Quiz3.ipynb\" target=\"_parent\"><img src=\"https://colab.research.google.com/assets/colab-badge.svg\" alt=\"Open In Colab\"/></a>"
      ]
    },
    {
      "cell_type": "markdown",
      "source": [
        "# Quiz3\n",
        "\n",
        "เขียน function แสดงความต่างของเวลาโดย input อยู่ในรูปแบบ 'XX:YY:ZZ - AA:BB:CC'\n",
        "\n",
        "และวนลูปแสดงผลของ input ต่อไปนี้\n",
        "\n",
        "* '09:11:50 - 12:30:15'\n",
        "* '13:41:07 - 20:00:18'\n",
        "* '00:00:00 - 23:59:59'\n",
        "* '18:04:11 - 00:00:00'\n",
        "* '21:30:00 - 03:05:15'\n",
        "\n",
        "ตัวอย่าง input ```'00:00:00-01:00:00'```\n",
        "\n",
        "output ```ช่วงระยะเวลาระหว่าง 00:00:00 ถึง 01:00:00 มีเวลาทั้งหมด 3,600 วินาที```"
      ],
      "metadata": {
        "id": "5lbC35kFgUjq"
      }
    },
    {
      "cell_type": "code",
      "source": [
        "def add_time(time) :\n",
        "    sp_time = time.split( ' - ' )\n",
        "    start_time =  sp_time[0]\n",
        "    sp_start_time = start_time.split(':')\n",
        "    end_time = sp_time[1]\n",
        "    sp_end_time = end_time.split(':')\n",
        "    t1 = (int(sp_start_time[0])*60*60) + (int(sp_start_time[1])*60) + (int(sp_start_time[2]))\n",
        "    t2 = (int(sp_end_time[0])*60*60) + (int(sp_end_time[1])*60) + (int(sp_end_time[2]))\n",
        "    total_sec = t2 - t1\n",
        "    if total_sec > 0 :\n",
        "      print(f'ช่วงระยะเวลาระหว่าง {sp_time[0]} ถึง {sp_time[1]} มีเวลาทั้งหมด { t2 - t1: ,} วินาที')\n",
        "    elif total_sec <0 :\n",
        "      print(f'ช่วงระยะเวลาระหว่าง {sp_time[0]} ถึง {sp_time[1]} มีเวลาทั้งหมด { (t2+(24*3600)) - t1: ,} วินาที')\n",
        "      \n"
      ],
      "metadata": {
        "id": "4RFOAbnFgrte"
      },
      "execution_count": null,
      "outputs": []
    },
    {
      "cell_type": "code",
      "source": [
        "for time in ['09:11:50 - 12:30:15','13:41:07 - 20:00:18','00:00:00 - 23:59:59','18:04:11 - 00:00:00','21:30:00 - 03:05:15']:\n",
        "  T= time\n",
        "  add_time(time)"
      ],
      "metadata": {
        "id": "na6ne2hheuU1",
        "colab": {
          "base_uri": "https://localhost:8080/"
        },
        "outputId": "c71e4fa9-d4a2-4ec1-eb57-77ab18f2bab7"
      },
      "execution_count": null,
      "outputs": [
        {
          "output_type": "stream",
          "name": "stdout",
          "text": [
            "ช่วงระยะเวลาระหว่าง 09:11:50 ถึง 12:30:15 มีเวลาทั้งหมด  11,905 วินาที\n",
            "ช่วงระยะเวลาระหว่าง 13:41:07 ถึง 20:00:18 มีเวลาทั้งหมด  22,751 วินาที\n",
            "ช่วงระยะเวลาระหว่าง 00:00:00 ถึง 23:59:59 มีเวลาทั้งหมด  86,399 วินาที\n",
            "ช่วงระยะเวลาระหว่าง 18:04:11 ถึง 00:00:00 มีเวลาทั้งหมด  21,349 วินาที\n",
            "ช่วงระยะเวลาระหว่าง 21:30:00 ถึง 03:05:15 มีเวลาทั้งหมด  20,115 วินาที\n"
          ]
        }
      ]
    },
    {
      "cell_type": "code",
      "source": [
        "input =  ['09:11:50 - 12:30:15','13:41:07 - 20:00:18','00:00:00 - 23:59:59','18:04:11 - 00:00:00','21:30:00 - 03:05:15']"
      ],
      "metadata": {
        "id": "4eFT89jtkLK9"
      },
      "execution_count": null,
      "outputs": []
    },
    {
      "cell_type": "code",
      "source": [
        "def R_time(input) :\n",
        " for time in input  :\n",
        "    sp_time = time.split( ' - ' )\n",
        "    start_time =  sp_time[0]\n",
        "    sp_start_time = start_time.split(':')\n",
        "    end_time = sp_time[1]\n",
        "    sp_end_time = end_time.split(':')\n",
        "    t1 = (int(sp_start_time[0])*60*60) + (int(sp_start_time[1])*60) + (int(sp_start_time[2]))\n",
        "    t2 = (int(sp_end_time[0])*60*60) + (int(sp_end_time[1])*60) + (int(sp_end_time[2]))\n",
        "    total_sec = t2 - t1\n",
        "    if total_sec > 0 :\n",
        "      print(f'ช่วงระยะเวลาระหว่าง {sp_time[0]} ถึง {sp_time[1]} มีเวลาทั้งหมด { t2 - t1: ,} วินาที')\n",
        "    else  :\n",
        "      print(f'ช่วงระยะเวลาระหว่าง {sp_time[0]} ถึง {sp_time[1]} มีเวลาทั้งหมด { (t2+(24*3600)) - t1: ,} วินาที')  "
      ],
      "metadata": {
        "id": "pEIL_J6leumy"
      },
      "execution_count": 241,
      "outputs": []
    },
    {
      "cell_type": "code",
      "source": [
        " R_time(input)"
      ],
      "metadata": {
        "colab": {
          "base_uri": "https://localhost:8080/"
        },
        "id": "g49mL1rAnOj4",
        "outputId": "0e68d227-04eb-437b-c932-9102b86180ba"
      },
      "execution_count": 242,
      "outputs": [
        {
          "output_type": "stream",
          "name": "stdout",
          "text": [
            "ช่วงระยะเวลาระหว่าง 09:11:50 ถึง 12:30:15 มีเวลาทั้งหมด  11,905 วินาที\n",
            "ช่วงระยะเวลาระหว่าง 13:41:07 ถึง 20:00:18 มีเวลาทั้งหมด  22,751 วินาที\n",
            "ช่วงระยะเวลาระหว่าง 00:00:00 ถึง 23:59:59 มีเวลาทั้งหมด  86,399 วินาที\n",
            "ช่วงระยะเวลาระหว่าง 18:04:11 ถึง 00:00:00 มีเวลาทั้งหมด  21,349 วินาที\n",
            "ช่วงระยะเวลาระหว่าง 21:30:00 ถึง 03:05:15 มีเวลาทั้งหมด  20,115 วินาที\n"
          ]
        }
      ]
    }
  ]
}